{
 "cells": [
  {
   "attachments": {},
   "cell_type": "markdown",
   "metadata": {},
   "source": [
    "# 03. Theories"
   ]
  },
  {
   "attachments": {},
   "cell_type": "markdown",
   "metadata": {},
   "source": [
    "## The Prototype View\n",
    "\n",
    "### Summary representation\n",
    "\n",
    "A concept described by the prototype view uses a summary representation. The summary representation is a description of the category as a whole. The summary representation is a unified representation of the entire category, rather than separate representations for each member or for different classes of members.\n",
    "\n",
    "### Features\n",
    "\n",
    "A summary representation is a list of features that are usually found in the category members, but some features are more important than others. The more often a feature appears in the category and does not appear in other categories, the higher its weight will be.\n",
    "\n",
    "### Dimensions\n",
    "\n",
    "Features are usually organized into dimensions. A dimension is a set of features that are related to each other. For example, the dimension of color can be composed of the features of red, green, and blue.\n",
    "\n",
    "### Similarity\n",
    "\n",
    "### Categorization criterion\n",
    "\n",
    "### Change in basis of similarity\n",
    "\n",
    "### Feature combinations\n",
    "\n",
    "### Schemata\n"
   ]
  },
  {
   "cell_type": "code",
   "execution_count": null,
   "metadata": {},
   "outputs": [],
   "source": [
    "import"
   ]
  },
  {
   "attachments": {},
   "cell_type": "markdown",
   "metadata": {},
   "source": [
    "## The Exemplar View"
   ]
  },
  {
   "cell_type": "code",
   "execution_count": null,
   "metadata": {},
   "outputs": [],
   "source": []
  },
  {
   "attachments": {},
   "cell_type": "markdown",
   "metadata": {},
   "source": [
    "## The Knowledge Approach"
   ]
  }
 ],
 "metadata": {
  "kernelspec": {
   "display_name": "nom",
   "language": "python",
   "name": "python3"
  },
  "language_info": {
   "name": "python",
   "version": "3.11.0"
  },
  "orig_nbformat": 4,
  "vscode": {
   "interpreter": {
    "hash": "9c122309765dc3f9b612da1f92c6a418cf537e9c05870090e5373d31d05d731a"
   }
  }
 },
 "nbformat": 4,
 "nbformat_minor": 2
}
